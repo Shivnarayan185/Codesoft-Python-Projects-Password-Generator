{
 "cells": [
  {
   "cell_type": "code",
   "execution_count": null,
   "id": "98bfe2ac-9475-49bc-bdc3-71febeba7fbf",
   "metadata": {},
   "outputs": [
    {
     "name": "stdout",
     "output_type": "stream",
     "text": [
      "Welcome to our Random Password Genertor\n"
     ]
    },
    {
     "name": "stdin",
     "output_type": "stream",
     "text": [
      "Enter the lenght of password you want:  11\n"
     ]
    },
    {
     "name": "stdout",
     "output_type": "stream",
     "text": [
      "ABYk/@\\<4FS\n"
     ]
    }
   ],
   "source": [
    "import random\n",
    "import string\n",
    "print(\"Welcome to our Random Password Genertor\")\n",
    "def main():\n",
    "    lenght=int(input(\"Enter the lenght of password you want: \"))\n",
    "    lowerD=string.ascii_lowercase\n",
    "    upperD=string.ascii_uppercase\n",
    "    digitD=string.digits\n",
    "    symbolsD=string.punctuation\n",
    "    combine=lowerD+upperD+digitD+symbolsD\n",
    "    x=random.sample(combine,lenght)\n",
    "    password=\"\".join(x)\n",
    "    print(password)\n",
    "    main()\n",
    "main()"
   ]
  },
  {
   "cell_type": "markdown",
   "id": "b909f545-4244-4ec5-b538-93d01163104d",
   "metadata": {},
   "source": [
    "import random as rn\n",
    "import string as st\n",
    "def password_generator(lenght):\n",
    "    chars = st.ascii_letters + st.digits + \\\n",
    "    st.punctuation\n",
    "    pchars = ' '.join(rn.sample(chars, lenght))\n",
    "    return pchars\n",
    "lenght = int(input('Enter the password lenght>> '))\n",
    "password = password_generator(lenght)\n",
    "print(f'Your password is {password}')"
   ]
  },
  {
   "cell_type": "code",
   "execution_count": null,
   "id": "795e335b-d7a2-40ce-b44c-d542422215d9",
   "metadata": {},
   "outputs": [],
   "source": []
  },
  {
   "cell_type": "code",
   "execution_count": null,
   "id": "b84ba31e-1955-468e-b093-76ceb50ff418",
   "metadata": {},
   "outputs": [],
   "source": []
  }
 ],
 "metadata": {
  "kernelspec": {
   "display_name": "Python [conda env:base] *",
   "language": "python",
   "name": "conda-base-py"
  },
  "language_info": {
   "codemirror_mode": {
    "name": "ipython",
    "version": 3
   },
   "file_extension": ".py",
   "mimetype": "text/x-python",
   "name": "python",
   "nbconvert_exporter": "python",
   "pygments_lexer": "ipython3",
   "version": "3.12.7"
  }
 },
 "nbformat": 4,
 "nbformat_minor": 5
}
